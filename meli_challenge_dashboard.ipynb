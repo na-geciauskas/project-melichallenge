{
  "nbformat": 4,
  "nbformat_minor": 0,
  "metadata": {
    "colab": {
      "provenance": [],
      "authorship_tag": "ABX9TyMW+HcuKAWfiIZzaaxMEo/g",
      "include_colab_link": true
    },
    "kernelspec": {
      "name": "python3",
      "display_name": "Python 3"
    },
    "language_info": {
      "name": "python"
    }
  },
  "cells": [
    {
      "cell_type": "markdown",
      "metadata": {
        "id": "view-in-github",
        "colab_type": "text"
      },
      "source": [
        "<a href=\"https://colab.research.google.com/github/na-geciauskas/project-melichallenge/blob/main/meli_challenge_dashboard.ipynb\" target=\"_parent\"><img src=\"https://colab.research.google.com/assets/colab-badge.svg\" alt=\"Open In Colab\"/></a>"
      ]
    },
    {
      "cell_type": "code",
      "source": [
        "import sqlite3\n",
        "import pandas as pd\n",
        "import plotly.express as px\n",
        "import ipywidgets as widgets\n",
        "from IPython.display import display"
      ],
      "metadata": {
        "id": "1B18bE7cGk9W"
      },
      "execution_count": null,
      "outputs": []
    },
    {
      "cell_type": "code",
      "execution_count": null,
      "metadata": {
        "id": "8XyxK5zNFnHm"
      },
      "outputs": [],
      "source": [
        "# Conectar ao banco\n",
        "conn = sqlite3.connect(\"mercado_livre.db\")\n",
        "\n",
        "# Widgets interativos\n",
        "categoria_dropdown = widgets.Dropdown(\n",
        "    options=pd.read_sql(\"SELECT nome FROM categorias\", conn)['nome'].tolist(),\n",
        "    description='Categoria:'\n",
        ")\n",
        "\n",
        "preco_slider = widgets.IntRangeSlider(\n",
        "    value=[0, 2000],\n",
        "    min=0,\n",
        "    max=5000,\n",
        "    step=100,\n",
        "    description='Faixa de preço:'\n",
        ")\n",
        "\n",
        "# Função de atualização\n",
        "def update_dashboard(categoria, preco_range):\n",
        "    query = f\"\"\"\n",
        "    SELECT p.titulo, p.preco, p.vendidos, p.condicao, c.nome as categoria\n",
        "    FROM produtos p\n",
        "    JOIN produto_categoria pc ON p.id = pc.produto_id\n",
        "    JOIN categorias c ON pc.categoria_id = c.categoria_id\n",
        "    WHERE c.nome = '{categoria}'\n",
        "    AND p.preco BETWEEN {preco_range[0]} AND {preco_range[1]}\n",
        "    \"\"\"\n",
        "\n",
        "    df = pd.read_sql(query, conn)\n",
        "\n",
        "    # Gráfico 1: Distribuição de preços\n",
        "    fig1 = px.histogram(df, x='preco', nbins=20,\n",
        "                       title=f'Distribuição de Preços - {categoria}')\n",
        "\n",
        "    # Gráfico 2: Preço vs Vendidos\n",
        "    fig2 = px.scatter(df, x='preco', y='vendidos', color='condicao',\n",
        "                     title='Relação Preço x Unidades Vendidas')\n",
        "\n",
        "    # Métricas resumidas\n",
        "    avg_price = df['preco'].mean()\n",
        "    total_sold = df['vendidos'].sum()\n",
        "\n",
        "    print(f\"📊 Média de preço: R${avg_price:.2f}\")\n",
        "    print(f\"🛒 Total vendido: {total_sold} unidades\")\n",
        "\n",
        "    fig1.show()\n",
        "    fig2.show()\n",
        "\n",
        "# Dashboard interativo\n",
        "widgets.interactive(\n",
        "    update_dashboard,\n",
        "    categoria=categoria_dropdown,\n",
        "    preco_range=preco_slider\n",
        ")"
      ]
    }
  ]
}